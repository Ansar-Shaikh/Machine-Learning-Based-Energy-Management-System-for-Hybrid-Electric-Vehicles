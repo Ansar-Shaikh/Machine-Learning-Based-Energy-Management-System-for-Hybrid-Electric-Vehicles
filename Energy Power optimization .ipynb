{
 "cells": [
  {
   "cell_type": "code",
   "execution_count": null,
   "id": "cc64e90c-6ad5-48b9-be25-e92d6ae43403",
   "metadata": {},
   "outputs": [],
   "source": [
    "# Since your project’s goal is:\n",
    "\n",
    "# “Optimization of Power in Hybrid Electric Vehicles using Machine Learning”"
   ]
  },
  {
   "cell_type": "code",
   "execution_count": null,
   "id": "5bb59ff5-68de-4317-baec-9b952478a3cb",
   "metadata": {},
   "outputs": [],
   "source": [
    "# Option 1 — Predict Engine Power (Power Optimization)\n",
    "# Use Case: Learn how to optimally split total power between engine and battery.\n",
    "#  Target Variable: Engine Power (kW)\n",
    "#  Model Input Features:\n",
    "# Speed, Acceleration, SOC, Battery Degradation, Regenerative Braking Power, Driving Cycle Type\n",
    "#  Model Type: Regression (Random Forest / XGBoost / DNN)\n",
    "# → This is the most suitable for your project title.\n",
    "\n",
    "\n",
    "\n",
    "\n",
    "# Option 2 — Predict Target Efficiency (Efficiency Optimization)\n",
    "# Use Case: Learn driving and energy management patterns that maximize efficiency.\n",
    "#  Target Variable: Target Efficiency\n",
    "#  Model Input Features:\n",
    "# Speed, Acceleration, SOC, Engine Power, Battery Power, Regenerative Braking Power, Driving Cycle Type\n",
    "#  Model Type: Regression\n",
    "# → This is suitable if you focus more on energy efficiency than power split."
   ]
  },
  {
   "cell_type": "code",
   "execution_count": null,
   "id": "6e700412-30cc-42dd-8d9b-2ed0b80a89df",
   "metadata": {},
   "outputs": [],
   "source": []
  },
  {
   "cell_type": "code",
   "execution_count": null,
   "id": "d0ff5e25-6274-4cd8-b159-ef252e143b25",
   "metadata": {},
   "outputs": [],
   "source": []
  },
  {
   "cell_type": "code",
   "execution_count": null,
   "id": "92aa9f8e-e202-4d4e-9fba-f85a59eddb9b",
   "metadata": {},
   "outputs": [],
   "source": []
  },
  {
   "cell_type": "code",
   "execution_count": 78,
   "id": "924a1473-dfff-40c1-a790-78b1f5092d0e",
   "metadata": {},
   "outputs": [],
   "source": [
    "import pandas as pd \n",
    "import numpy as np \n",
    "import seaborn as sns \n",
    "import matplotlib.pyplot as plt \n",
    "from sklearn.model_selection import train_test_split\n",
    "import plotly.express as px\n",
    "from sklearn.ensemble import RandomForestRegressor,GradientBoostingRegressor,AdaBoostRegressor\n",
    "from xgboost  import XGBRegressor\n",
    "\n",
    "from sklearn.metrics import *\n",
    "from sklearn.preprocessing import LabelEncoder\n",
    "\n",
    "\n",
    "from sklearn.preprocessing import OrdinalEncoder\n",
    "from sklearn.compose import ColumnTransformer\n",
    "from sklearn.pipeline import Pipeline\n",
    "from sklearn.ensemble import GradientBoostingRegressor\n",
    "\n",
    "\n"
   ]
  },
  {
   "cell_type": "code",
   "execution_count": 2,
   "id": "d651670b-c354-4be1-b60e-e0fdb7047979",
   "metadata": {},
   "outputs": [],
   "source": [
    "df=pd.read_csv(\"nev_energy_management_dataset.csv\")"
   ]
  },
  {
   "cell_type": "code",
   "execution_count": 3,
   "id": "586d1811-2bb9-4989-a605-f15ff2c02ae0",
   "metadata": {},
   "outputs": [
    {
     "data": {
      "text/html": [
       "<div>\n",
       "<style scoped>\n",
       "    .dataframe tbody tr th:only-of-type {\n",
       "        vertical-align: middle;\n",
       "    }\n",
       "\n",
       "    .dataframe tbody tr th {\n",
       "        vertical-align: top;\n",
       "    }\n",
       "\n",
       "    .dataframe thead th {\n",
       "        text-align: right;\n",
       "    }\n",
       "</style>\n",
       "<table border=\"1\" class=\"dataframe\">\n",
       "  <thead>\n",
       "    <tr style=\"text-align: right;\">\n",
       "      <th></th>\n",
       "      <th>Time (s)</th>\n",
       "      <th>Speed (km/h)</th>\n",
       "      <th>Acceleration (m/s²)</th>\n",
       "      <th>Power Demand (kW)</th>\n",
       "      <th>Engine Power (kW)</th>\n",
       "      <th>Battery Power (kW)</th>\n",
       "      <th>Fuel Consumption (L/100km)</th>\n",
       "      <th>SOC (%)</th>\n",
       "      <th>Battery Degradation (%)</th>\n",
       "      <th>Regenerative Braking Power (kW)</th>\n",
       "      <th>Total Energy Used (kWh)</th>\n",
       "      <th>Driving Cycle Type</th>\n",
       "      <th>Target Efficiency</th>\n",
       "    </tr>\n",
       "  </thead>\n",
       "  <tbody>\n",
       "    <tr>\n",
       "      <th>2666</th>\n",
       "      <td>2666</td>\n",
       "      <td>62.722613</td>\n",
       "      <td>-0.514848</td>\n",
       "      <td>51.367465</td>\n",
       "      <td>28.089453</td>\n",
       "      <td>23.278012</td>\n",
       "      <td>5.988036</td>\n",
       "      <td>40.262654</td>\n",
       "      <td>5.973735</td>\n",
       "      <td>6.371166</td>\n",
       "      <td>57.738631</td>\n",
       "      <td>HWFET</td>\n",
       "      <td>Medium Efficiency</td>\n",
       "    </tr>\n",
       "    <tr>\n",
       "      <th>2768</th>\n",
       "      <td>2768</td>\n",
       "      <td>42.253555</td>\n",
       "      <td>0.346912</td>\n",
       "      <td>47.565935</td>\n",
       "      <td>19.928995</td>\n",
       "      <td>27.636940</td>\n",
       "      <td>3.828537</td>\n",
       "      <td>37.959875</td>\n",
       "      <td>6.204013</td>\n",
       "      <td>0.000000</td>\n",
       "      <td>47.565935</td>\n",
       "      <td>Urban</td>\n",
       "      <td>Low Efficiency</td>\n",
       "    </tr>\n",
       "    <tr>\n",
       "      <th>4394</th>\n",
       "      <td>4394</td>\n",
       "      <td>62.594958</td>\n",
       "      <td>0.084987</td>\n",
       "      <td>52.961336</td>\n",
       "      <td>35.809931</td>\n",
       "      <td>17.151405</td>\n",
       "      <td>4.419856</td>\n",
       "      <td>20.000000</td>\n",
       "      <td>9.853193</td>\n",
       "      <td>0.000000</td>\n",
       "      <td>52.961336</td>\n",
       "      <td>Urban</td>\n",
       "      <td>Low Efficiency</td>\n",
       "    </tr>\n",
       "    <tr>\n",
       "      <th>4354</th>\n",
       "      <td>4354</td>\n",
       "      <td>56.063193</td>\n",
       "      <td>-1.080652</td>\n",
       "      <td>43.846861</td>\n",
       "      <td>27.882006</td>\n",
       "      <td>15.964855</td>\n",
       "      <td>3.565748</td>\n",
       "      <td>20.000000</td>\n",
       "      <td>9.758431</td>\n",
       "      <td>8.111228</td>\n",
       "      <td>51.958090</td>\n",
       "      <td>WLTC</td>\n",
       "      <td>Low Efficiency</td>\n",
       "    </tr>\n",
       "  </tbody>\n",
       "</table>\n",
       "</div>"
      ],
      "text/plain": [
       "      Time (s)  Speed (km/h)  Acceleration (m/s²)  Power Demand (kW)  \\\n",
       "2666      2666     62.722613            -0.514848          51.367465   \n",
       "2768      2768     42.253555             0.346912          47.565935   \n",
       "4394      4394     62.594958             0.084987          52.961336   \n",
       "4354      4354     56.063193            -1.080652          43.846861   \n",
       "\n",
       "      Engine Power (kW)  Battery Power (kW)  Fuel Consumption (L/100km)  \\\n",
       "2666          28.089453           23.278012                    5.988036   \n",
       "2768          19.928995           27.636940                    3.828537   \n",
       "4394          35.809931           17.151405                    4.419856   \n",
       "4354          27.882006           15.964855                    3.565748   \n",
       "\n",
       "        SOC (%)  Battery Degradation (%)  Regenerative Braking Power (kW)  \\\n",
       "2666  40.262654                 5.973735                         6.371166   \n",
       "2768  37.959875                 6.204013                         0.000000   \n",
       "4394  20.000000                 9.853193                         0.000000   \n",
       "4354  20.000000                 9.758431                         8.111228   \n",
       "\n",
       "      Total Energy Used (kWh) Driving Cycle Type  Target Efficiency  \n",
       "2666                57.738631              HWFET  Medium Efficiency  \n",
       "2768                47.565935              Urban     Low Efficiency  \n",
       "4394                52.961336              Urban     Low Efficiency  \n",
       "4354                51.958090               WLTC     Low Efficiency  "
      ]
     },
     "execution_count": 3,
     "metadata": {},
     "output_type": "execute_result"
    }
   ],
   "source": [
    "df.sample(4)"
   ]
  },
  {
   "cell_type": "code",
   "execution_count": null,
   "id": "f2996fd3-f90b-49e1-835b-d11d76551290",
   "metadata": {},
   "outputs": [],
   "source": []
  },
  {
   "cell_type": "code",
   "execution_count": 4,
   "id": "b64290f8-9b6d-44e9-b2e7-1e3981242090",
   "metadata": {},
   "outputs": [
    {
     "data": {
      "text/plain": [
       "<Axes: >"
      ]
     },
     "execution_count": 4,
     "metadata": {},
     "output_type": "execute_result"
    },
    {
     "data": {
      "image/png": "[encoded data removed]",
      "text/plain": [
       "<Figure size 640x480 with 1 Axes>"
      ]
     },
     "metadata": {},
     "output_type": "display_data"
    }
   ],
   "source": [
    "df.plot(kind=\"box\")"
   ]
  },
  {
   "cell_type": "code",
   "execution_count": 5,
   "id": "93da925f-3771-4ae3-a69c-9e321c31a17f",
   "metadata": {},
   "outputs": [
    {
     "data": {
      "text/html": [
       "<div>\n",
       "<style scoped>\n",
       "    .dataframe tbody tr th:only-of-type {\n",
       "        vertical-align: middle;\n",
       "    }\n",
       "\n",
       "    .dataframe tbody tr th {\n",
       "        vertical-align: top;\n",
       "    }\n",
       "\n",
       "    .dataframe thead th {\n",
       "        text-align: right;\n",
       "    }\n",
       "</style>\n",
       "<table border=\"1\" class=\"dataframe\">\n",
       "  <thead>\n",
       "    <tr style=\"text-align: right;\">\n",
       "      <th></th>\n",
       "      <th>Time (s)</th>\n",
       "      <th>Speed (km/h)</th>\n",
       "      <th>Acceleration (m/s²)</th>\n",
       "      <th>Power Demand (kW)</th>\n",
       "      <th>Engine Power (kW)</th>\n",
       "      <th>Battery Power (kW)</th>\n",
       "      <th>Fuel Consumption (L/100km)</th>\n",
       "      <th>SOC (%)</th>\n",
       "      <th>Battery Degradation (%)</th>\n",
       "      <th>Regenerative Braking Power (kW)</th>\n",
       "      <th>Total Energy Used (kWh)</th>\n",
       "    </tr>\n",
       "  </thead>\n",
       "  <tbody>\n",
       "    <tr>\n",
       "      <th>count</th>\n",
       "      <td>5000.000000</td>\n",
       "      <td>5000.000000</td>\n",
       "      <td>5000.000000</td>\n",
       "      <td>5000.000000</td>\n",
       "      <td>5000.000000</td>\n",
       "      <td>5000.000000</td>\n",
       "      <td>5000.000000</td>\n",
       "      <td>5000.000000</td>\n",
       "      <td>5000.000000</td>\n",
       "      <td>5000.000000</td>\n",
       "      <td>5000.000000</td>\n",
       "    </tr>\n",
       "    <tr>\n",
       "      <th>mean</th>\n",
       "      <td>2499.500000</td>\n",
       "      <td>50.084029</td>\n",
       "      <td>-0.004937</td>\n",
       "      <td>50.105530</td>\n",
       "      <td>27.682015</td>\n",
       "      <td>22.423515</td>\n",
       "      <td>4.987227</td>\n",
       "      <td>48.591637</td>\n",
       "      <td>5.533014</td>\n",
       "      <td>2.536712</td>\n",
       "      <td>52.642242</td>\n",
       "    </tr>\n",
       "    <tr>\n",
       "      <th>std</th>\n",
       "      <td>1443.520003</td>\n",
       "      <td>14.947197</td>\n",
       "      <td>0.505219</td>\n",
       "      <td>9.987698</td>\n",
       "      <td>6.973683</td>\n",
       "      <td>6.392196</td>\n",
       "      <td>1.490008</td>\n",
       "      <td>26.594421</td>\n",
       "      <td>3.135059</td>\n",
       "      <td>3.249302</td>\n",
       "      <td>10.563013</td>\n",
       "    </tr>\n",
       "    <tr>\n",
       "      <th>min</th>\n",
       "      <td>0.000000</td>\n",
       "      <td>1.380990</td>\n",
       "      <td>-1.961200</td>\n",
       "      <td>16.244209</td>\n",
       "      <td>8.080777</td>\n",
       "      <td>4.927980</td>\n",
       "      <td>0.002339</td>\n",
       "      <td>20.000000</td>\n",
       "      <td>0.002088</td>\n",
       "      <td>0.000000</td>\n",
       "      <td>16.244209</td>\n",
       "    </tr>\n",
       "    <tr>\n",
       "      <th>25%</th>\n",
       "      <td>1249.750000</td>\n",
       "      <td>40.131424</td>\n",
       "      <td>-0.343291</td>\n",
       "      <td>43.391136</td>\n",
       "      <td>22.598689</td>\n",
       "      <td>17.736560</td>\n",
       "      <td>3.949523</td>\n",
       "      <td>20.000000</td>\n",
       "      <td>2.799814</td>\n",
       "      <td>0.000000</td>\n",
       "      <td>45.469066</td>\n",
       "    </tr>\n",
       "    <tr>\n",
       "      <th>50%</th>\n",
       "      <td>2499.500000</td>\n",
       "      <td>50.201984</td>\n",
       "      <td>-0.008725</td>\n",
       "      <td>50.099174</td>\n",
       "      <td>27.277890</td>\n",
       "      <td>21.776793</td>\n",
       "      <td>4.993327</td>\n",
       "      <td>44.017998</td>\n",
       "      <td>5.598200</td>\n",
       "      <td>0.118897</td>\n",
       "      <td>52.524760</td>\n",
       "    </tr>\n",
       "    <tr>\n",
       "      <th>75%</th>\n",
       "      <td>3749.250000</td>\n",
       "      <td>59.990159</td>\n",
       "      <td>0.338619</td>\n",
       "      <td>56.755342</td>\n",
       "      <td>32.332494</td>\n",
       "      <td>26.603547</td>\n",
       "      <td>6.003215</td>\n",
       "      <td>72.001862</td>\n",
       "      <td>8.394543</td>\n",
       "      <td>5.034283</td>\n",
       "      <td>59.919275</td>\n",
       "    </tr>\n",
       "    <tr>\n",
       "      <th>max</th>\n",
       "      <td>4999.000000</td>\n",
       "      <td>108.893566</td>\n",
       "      <td>1.764528</td>\n",
       "      <td>84.289105</td>\n",
       "      <td>57.590132</td>\n",
       "      <td>47.813232</td>\n",
       "      <td>10.417025</td>\n",
       "      <td>99.979122</td>\n",
       "      <td>10.000000</td>\n",
       "      <td>9.997894</td>\n",
       "      <td>92.736056</td>\n",
       "    </tr>\n",
       "  </tbody>\n",
       "</table>\n",
       "</div>"
      ],
      "text/plain": [
       "          Time (s)  Speed (km/h)  Acceleration (m/s²)  Power Demand (kW)  \\\n",
       "count  5000.000000   5000.000000          5000.000000        5000.000000   \n",
       "mean   2499.500000     50.084029            -0.004937          50.105530   \n",
       "std    1443.520003     14.947197             0.505219           9.987698   \n",
       "min       0.000000      1.380990            -1.961200          16.244209   \n",
       "25%    1249.750000     40.131424            -0.343291          43.391136   \n",
       "50%    2499.500000     50.201984            -0.008725          50.099174   \n",
       "75%    3749.250000     59.990159             0.338619          56.755342   \n",
       "max    4999.000000    108.893566             1.764528          84.289105   \n",
       "\n",
       "       Engine Power (kW)  Battery Power (kW)  Fuel Consumption (L/100km)  \\\n",
       "count        5000.000000         5000.000000                 5000.000000   \n",
       "mean           27.682015           22.423515                    4.987227   \n",
       "std             6.973683            6.392196                    1.490008   \n",
       "min             8.080777            4.927980                    0.002339   \n",
       "25%            22.598689           17.736560                    3.949523   \n",
       "50%            27.277890           21.776793                    4.993327   \n",
       "75%            32.332494           26.603547                    6.003215   \n",
       "max            57.590132           47.813232                   10.417025   \n",
       "\n",
       "           SOC (%)  Battery Degradation (%)  Regenerative Braking Power (kW)  \\\n",
       "count  5000.000000              5000.000000                      5000.000000   \n",
       "mean     48.591637                 5.533014                         2.536712   \n",
       "std      26.594421                 3.135059                         3.249302   \n",
       "min      20.000000                 0.002088                         0.000000   \n",
       "25%      20.000000                 2.799814                         0.000000   \n",
       "50%      44.017998                 5.598200                         0.118897   \n",
       "75%      72.001862                 8.394543                         5.034283   \n",
       "max      99.979122                10.000000                         9.997894   \n",
       "\n",
       "       Total Energy Used (kWh)  \n",
       "count              5000.000000  \n",
       "mean                 52.642242  \n",
       "std                  10.563013  \n",
       "min                  16.244209  \n",
       "25%                  45.469066  \n",
       "50%                  52.524760  \n",
       "75%                  59.919275  \n",
       "max                  92.736056  "
      ]
     },
     "execution_count": 5,
     "metadata": {},
     "output_type": "execute_result"
    }
   ],
   "source": [
    "df.describe()"
   ]
  },
  {
   "cell_type": "code",
   "execution_count": 6,
   "id": "950e8686-aab5-4f6b-9e98-aada24b8c3ba",
   "metadata": {},
   "outputs": [
    {
     "data": {
      "text/plain": [
       "0"
      ]
     },
     "execution_count": 6,
     "metadata": {},
     "output_type": "execute_result"
    }
   ],
   "source": [
    "df.duplicated().sum()"
   ]
  },
  {
   "cell_type": "code",
   "execution_count": 7,
   "id": "adbd2299-372a-410a-9f75-be729db4a6dc",
   "metadata": {},
   "outputs": [
    {
     "data": {
      "text/plain": [
       "Series([], dtype: int64)"
      ]
     },
     "execution_count": 7,
     "metadata": {},
     "output_type": "execute_result"
    }
   ],
   "source": [
    "df.isnull().sum()[df.isnull().sum()>0]"
   ]
  },
  {
   "cell_type": "code",
   "execution_count": 8,
   "id": "e7ec356b-c0ea-437e-9aa7-6924c2416929",
   "metadata": {},
   "outputs": [
    {
     "data": {
      "text/plain": [
       "Time (s)                           0\n",
       "Speed (km/h)                       0\n",
       "Acceleration (m/s²)                0\n",
       "Power Demand (kW)                  0\n",
       "Engine Power (kW)                  0\n",
       "Battery Power (kW)                 0\n",
       "Fuel Consumption (L/100km)         0\n",
       "SOC (%)                            0\n",
       "Battery Degradation (%)            0\n",
       "Regenerative Braking Power (kW)    0\n",
       "Total Energy Used (kWh)            0\n",
       "Driving Cycle Type                 0\n",
       "Target Efficiency                  0\n",
       "dtype: int64"
      ]
     },
     "execution_count": 8,
     "metadata": {},
     "output_type": "execute_result"
    }
   ],
   "source": [
    "df.isnull().sum()"
   ]
  },
  {
   "cell_type": "code",
   "execution_count": 9,
   "id": "ede0f185-6ece-4907-82d1-3eca47555d77",
   "metadata": {},
   "outputs": [
    {
     "data": {
      "text/plain": [
       "<Axes: ylabel='Frequency'>"
      ]
     },
     "execution_count": 9,
     "metadata": {},
     "output_type": "execute_result"
    },
    {
     "data": {
      "image/png": "[encoded data removed]",
      "text/plain": [
       "<Figure size 640x480 with 1 Axes>"
      ]
     },
     "metadata": {},
     "output_type": "display_data"
    }
   ],
   "source": [
    "df.plot(kind=\"hist\")"
   ]
  },
  {
   "cell_type": "code",
   "execution_count": null,
   "id": "ca1d748d-8cb7-403b-a0d7-8e0b95757f88",
   "metadata": {},
   "outputs": [],
   "source": []
  },
  {
   "cell_type": "code",
   "execution_count": 10,
   "id": "41ca7f32-d10b-467f-a598-4f2b7926eff1",
   "metadata": {},
   "outputs": [
    {
     "data": {
      "text/plain": [
       "Index(['Time (s)', 'Speed (km/h)', 'Acceleration (m/s²)', 'Power Demand (kW)',\n",
       "       'Engine Power (kW)', 'Battery Power (kW)', 'Fuel Consumption (L/100km)',\n",
       "       'SOC (%)', 'Battery Degradation (%)', 'Regenerative Braking Power (kW)',\n",
       "       'Total Energy Used (kWh)', 'Driving Cycle Type', 'Target Efficiency'],\n",
       "      dtype='object')"
      ]
     },
     "execution_count": 10,
     "metadata": {},
     "output_type": "execute_result"
    }
   ],
   "source": [
    "df.columns"
   ]
  },
  {
   "cell_type": "code",
   "execution_count": 16,
   "id": "755e4187-63e6-44d4-8737-851e280e4766",
   "metadata": {},
   "outputs": [],
   "source": [
    "hist1=df.select_dtypes(\"number\").columns.to_list()"
   ]
  },
  {
   "cell_type": "code",
   "execution_count": 26,
   "id": "2e03d51e-60ff-46a9-a202-efd014a324b5",
   "metadata": {},
   "outputs": [
    {
     "data": {
      "text/plain": [
       "<Axes: xlabel='Power Demand (kW)', ylabel='Density'>"
      ]
     },
     "execution_count": 26,
     "metadata": {},
     "output_type": "execute_result"
    },
    {
     "data": {
      "image/png": "[encoded data removed]",
      "text/plain": [
       "<Figure size 640x480 with 1 Axes>"
      ]
     },
     "metadata": {},
     "output_type": "display_data"
    }
   ],
   "source": [
    "sns.kdeplot(df[\"Power Demand (kW)\"])"
   ]
  },
  {
   "cell_type": "code",
   "execution_count": 27,
   "id": "1812d11c-2ef9-41da-8604-282afe653358",
   "metadata": {},
   "outputs": [
    {
     "data": {
      "text/plain": [
       "<Axes: xlabel='Engine Power (kW)', ylabel='Density'>"
      ]
     },
     "execution_count": 27,
     "metadata": {},
     "output_type": "execute_result"
    },
    {
     "data": {
      "image/png": "[encoded data removed]",
      "text/plain": [
       "<Figure size 640x480 with 1 Axes>"
      ]
     },
     "metadata": {},
     "output_type": "display_data"
    }
   ],
   "source": [
    "sns.kdeplot(df[\"Engine Power (kW)\"])"
   ]
  },
  {
   "cell_type": "code",
   "execution_count": 28,
   "id": "4ed09eaf-0054-4709-ac27-6ca32c2dd1fd",
   "metadata": {},
   "outputs": [
    {
     "data": {
      "text/plain": [
       "<Axes: xlabel='Battery Power (kW)', ylabel='Density'>"
      ]
     },
     "execution_count": 28,
     "metadata": {},
     "output_type": "execute_result"
    },
    {
     "data": {
      "image/png": "[encoded data removed]",
      "text/plain": [
       "<Figure size 640x480 with 1 Axes>"
      ]
     },
     "metadata": {},
     "output_type": "display_data"
    }
   ],
   "source": [
    "sns.kdeplot(df[\"Battery Power (kW)\"])"
   ]
  },
  {
   "cell_type": "code",
   "execution_count": null,
   "id": "6d565eac-429e-4512-9e1e-c6202a8230c2",
   "metadata": {},
   "outputs": [],
   "source": []
  },
  {
   "cell_type": "code",
   "execution_count": 30,
   "id": "d43cc0c2-0a38-413f-bc06-ebccd3c3d973",
   "metadata": {},
   "outputs": [],
   "source": [
    "# Since your project name explicitly mentions:\n",
    "# “Optimization of Power in Hybrid Electric Vehicles”\n",
    "\n",
    "# Use:\n",
    "# Target variable: Engine Power (kW)"
   ]
  },
  {
   "cell_type": "code",
   "execution_count": null,
   "id": "3b0f0763-e326-4dd9-a508-51b0ce22872c",
   "metadata": {},
   "outputs": [],
   "source": []
  },
  {
   "cell_type": "code",
   "execution_count": null,
   "id": "6ee836e6-0213-4b44-bfe1-fdac50387ef9",
   "metadata": {},
   "outputs": [],
   "source": []
  },
  {
   "cell_type": "code",
   "execution_count": 59,
   "id": "5ec8adbf-31aa-4486-be2d-2b91d97a6d07",
   "metadata": {},
   "outputs": [],
   "source": [
    "# Project Title\n",
    "# Machine Learning-Based Energy Management System for Optimization of Power in Hybrid Electric Vehicles\n",
    "\n",
    "# ⃣Objective\n",
    "# To develop a machine learning model that predicts the optimal Engine Power (kW) required under varying driving and battery conditions — thereby achieving efficient power distribution and fuel economy in hybrid electric vehicles (HEVs).\n",
    "\n",
    "# ️ Target Variable\n",
    "# \"Engine Power (kW)\"\n",
    "# → Represents the power output from the internal combustion engine that the ML model will learn to optimize.\n",
    "\n",
    "# ️ Feature Variables (Inputs X)\n",
    "# Feature Name\tDescription\n",
    "# Speed (km/h)\tCurrent vehicle speed; directly influences power requirement.\n",
    "# Acceleration (m/s²)\tIndicates driver behavior and dynamic load; affects engine response.\n",
    "# SOC (%)\tState of Charge of the battery; helps decide when to use engine or electric motor.\n",
    "# Battery Degradation (%)\tHealth of the battery; influences long-term power management.\n",
    "# Regenerative Braking Power (kW)\tPower recovered during braking; helps improve efficiency and reduce engine load.\n",
    "# Driving Cycle Type\tRepresents driving condition (City / Highway / Mixed), crucial for adaptive control."
   ]
  },
  {
   "cell_type": "code",
   "execution_count": null,
   "id": "591a98f5-eedb-44d7-a72a-7c6ae22e35b4",
   "metadata": {},
   "outputs": [],
   "source": []
  },
  {
   "cell_type": "code",
   "execution_count": 41,
   "id": "26d229cf-4dd3-44e9-a0df-3a1de67c5b92",
   "metadata": {},
   "outputs": [],
   "source": []
  },
  {
   "cell_type": "code",
   "execution_count": 46,
   "id": "5320ffe1-55a9-47cb-bd1d-5351f7b5f2d1",
   "metadata": {},
   "outputs": [],
   "source": []
  },
  {
   "cell_type": "code",
   "execution_count": null,
   "id": "97661f59-d7e0-44ef-bb43-bbcb6e04b10b",
   "metadata": {},
   "outputs": [],
   "source": [
    "\n",
    "\n",
    "\n",
    "\n"
   ]
  },
  {
   "cell_type": "code",
   "execution_count": null,
   "id": "4700f450-168c-4d3a-b368-53080812e5e2",
   "metadata": {},
   "outputs": [],
   "source": []
  },
  {
   "cell_type": "code",
   "execution_count": 55,
   "id": "03bf9e85-7436-4f7a-9c95-626ef8e734a0",
   "metadata": {},
   "outputs": [],
   "source": [
    "\n",
    "\n",
    "df_train, df_test = train_test_split(df, test_size=0.2, random_state=555)\n",
    "\n",
    "\n",
    "df_x_train = df_train.drop(columns=[\"Engine Power (kW)\"], axis=1)\n",
    "df_y_train = df_train[\"Engine Power (kW)\"]\n",
    "\n",
    "df_x_test = df_test.drop(columns=[\"Engine Power (kW)\"], axis=1)\n",
    "df_y_test = df_test[\"Engine Power (kW)\"]\n"
   ]
  },
  {
   "cell_type": "code",
   "execution_count": 56,
   "id": "1fda8da6-df84-4452-b60b-27a95d550cf7",
   "metadata": {},
   "outputs": [],
   "source": [
    "\n",
    "df_x_train = pd.get_dummies(df_x_train, drop_first=True)\n",
    "df_x_test = pd.get_dummies(df_x_test, drop_first=True)\n"
   ]
  },
  {
   "cell_type": "code",
   "execution_count": 57,
   "id": "a2b3fe09-7da2-4ee2-96b1-6ac6e3ccbc47",
   "metadata": {},
   "outputs": [],
   "source": [
    "# Make sure both have same columns\n",
    "df_x_train, df_x_test = df_x_train.align(df_x_test, join='left', axis=1, fill_value=0)"
   ]
  },
  {
   "cell_type": "code",
   "execution_count": null,
   "id": "bff81477-40bb-4853-955e-bde3daf09c5a",
   "metadata": {},
   "outputs": [],
   "source": [
    "\n",
    "# Train the model\n",
    "model = RandomForestRegressor(n_estimators=100, random_state=42)\n",
    "model.fit(df_x_train, df_y_train)\n"
   ]
  },
  {
   "cell_type": "code",
   "execution_count": 60,
   "id": "6e2df165-3324-4dc7-ae5b-72d6503ec9d9",
   "metadata": {},
   "outputs": [
    {
     "data": {
      "text/html": [
       "<div>\n",
       "<style scoped>\n",
       "    .dataframe tbody tr th:only-of-type {\n",
       "        vertical-align: middle;\n",
       "    }\n",
       "\n",
       "    .dataframe tbody tr th {\n",
       "        vertical-align: top;\n",
       "    }\n",
       "\n",
       "    .dataframe thead th {\n",
       "        text-align: right;\n",
       "    }\n",
       "</style>\n",
       "<table border=\"1\" class=\"dataframe\">\n",
       "  <thead>\n",
       "    <tr style=\"text-align: right;\">\n",
       "      <th></th>\n",
       "      <th>Time (s)</th>\n",
       "      <th>Speed (km/h)</th>\n",
       "      <th>Acceleration (m/s²)</th>\n",
       "      <th>Power Demand (kW)</th>\n",
       "      <th>Battery Power (kW)</th>\n",
       "      <th>Fuel Consumption (L/100km)</th>\n",
       "      <th>SOC (%)</th>\n",
       "      <th>Battery Degradation (%)</th>\n",
       "      <th>Regenerative Braking Power (kW)</th>\n",
       "      <th>Total Energy Used (kWh)</th>\n",
       "      <th>Driving Cycle Type</th>\n",
       "      <th>Target Efficiency_1</th>\n",
       "      <th>Target Efficiency_Medium Efficiency</th>\n",
       "    </tr>\n",
       "  </thead>\n",
       "  <tbody>\n",
       "    <tr>\n",
       "      <th>3185</th>\n",
       "      <td>3185</td>\n",
       "      <td>69.958624</td>\n",
       "      <td>-0.663131</td>\n",
       "      <td>74.409240</td>\n",
       "      <td>30.334721</td>\n",
       "      <td>1.811820</td>\n",
       "      <td>28.687120</td>\n",
       "      <td>7.131288</td>\n",
       "      <td>9.883046</td>\n",
       "      <td>84.292285</td>\n",
       "      <td>1</td>\n",
       "      <td>False</td>\n",
       "      <td>False</td>\n",
       "    </tr>\n",
       "    <tr>\n",
       "      <th>3159</th>\n",
       "      <td>3159</td>\n",
       "      <td>54.697767</td>\n",
       "      <td>-0.380971</td>\n",
       "      <td>61.522507</td>\n",
       "      <td>28.508247</td>\n",
       "      <td>6.215502</td>\n",
       "      <td>29.293315</td>\n",
       "      <td>7.070668</td>\n",
       "      <td>5.290346</td>\n",
       "      <td>66.812853</td>\n",
       "      <td>0</td>\n",
       "      <td>False</td>\n",
       "      <td>False</td>\n",
       "    </tr>\n",
       "    <tr>\n",
       "      <th>3102</th>\n",
       "      <td>3102</td>\n",
       "      <td>74.742213</td>\n",
       "      <td>-0.240287</td>\n",
       "      <td>51.108364</td>\n",
       "      <td>24.151167</td>\n",
       "      <td>7.844874</td>\n",
       "      <td>30.564761</td>\n",
       "      <td>6.943524</td>\n",
       "      <td>0.777132</td>\n",
       "      <td>51.885496</td>\n",
       "      <td>2</td>\n",
       "      <td>False</td>\n",
       "      <td>False</td>\n",
       "    </tr>\n",
       "    <tr>\n",
       "      <th>120</th>\n",
       "      <td>120</td>\n",
       "      <td>61.865479</td>\n",
       "      <td>-0.690299</td>\n",
       "      <td>75.031718</td>\n",
       "      <td>33.748391</td>\n",
       "      <td>4.492720</td>\n",
       "      <td>97.183022</td>\n",
       "      <td>0.281698</td>\n",
       "      <td>3.569738</td>\n",
       "      <td>78.601456</td>\n",
       "      <td>0</td>\n",
       "      <td>True</td>\n",
       "      <td>False</td>\n",
       "    </tr>\n",
       "    <tr>\n",
       "      <th>2567</th>\n",
       "      <td>2567</td>\n",
       "      <td>59.767044</td>\n",
       "      <td>-0.612500</td>\n",
       "      <td>46.500299</td>\n",
       "      <td>23.410178</td>\n",
       "      <td>4.547730</td>\n",
       "      <td>42.554908</td>\n",
       "      <td>5.744509</td>\n",
       "      <td>3.709481</td>\n",
       "      <td>50.209780</td>\n",
       "      <td>2</td>\n",
       "      <td>False</td>\n",
       "      <td>True</td>\n",
       "    </tr>\n",
       "    <tr>\n",
       "      <th>...</th>\n",
       "      <td>...</td>\n",
       "      <td>...</td>\n",
       "      <td>...</td>\n",
       "      <td>...</td>\n",
       "      <td>...</td>\n",
       "      <td>...</td>\n",
       "      <td>...</td>\n",
       "      <td>...</td>\n",
       "      <td>...</td>\n",
       "      <td>...</td>\n",
       "      <td>...</td>\n",
       "      <td>...</td>\n",
       "      <td>...</td>\n",
       "    </tr>\n",
       "    <tr>\n",
       "      <th>233</th>\n",
       "      <td>233</td>\n",
       "      <td>40.225995</td>\n",
       "      <td>-0.128473</td>\n",
       "      <td>38.959744</td>\n",
       "      <td>12.132393</td>\n",
       "      <td>4.357772</td>\n",
       "      <td>94.706826</td>\n",
       "      <td>0.529317</td>\n",
       "      <td>4.422993</td>\n",
       "      <td>43.382736</td>\n",
       "      <td>2</td>\n",
       "      <td>True</td>\n",
       "      <td>False</td>\n",
       "    </tr>\n",
       "    <tr>\n",
       "      <th>1430</th>\n",
       "      <td>1430</td>\n",
       "      <td>54.611100</td>\n",
       "      <td>-0.314335</td>\n",
       "      <td>47.313221</td>\n",
       "      <td>22.625100</td>\n",
       "      <td>5.233878</td>\n",
       "      <td>68.065512</td>\n",
       "      <td>3.193449</td>\n",
       "      <td>1.011635</td>\n",
       "      <td>48.324857</td>\n",
       "      <td>2</td>\n",
       "      <td>False</td>\n",
       "      <td>False</td>\n",
       "    </tr>\n",
       "    <tr>\n",
       "      <th>2628</th>\n",
       "      <td>2628</td>\n",
       "      <td>43.354340</td>\n",
       "      <td>-0.803128</td>\n",
       "      <td>52.197581</td>\n",
       "      <td>31.072062</td>\n",
       "      <td>3.267387</td>\n",
       "      <td>41.159761</td>\n",
       "      <td>5.884024</td>\n",
       "      <td>9.294322</td>\n",
       "      <td>61.491903</td>\n",
       "      <td>0</td>\n",
       "      <td>False</td>\n",
       "      <td>False</td>\n",
       "    </tr>\n",
       "    <tr>\n",
       "      <th>1057</th>\n",
       "      <td>1057</td>\n",
       "      <td>67.590935</td>\n",
       "      <td>0.512816</td>\n",
       "      <td>43.239293</td>\n",
       "      <td>23.404823</td>\n",
       "      <td>5.379339</td>\n",
       "      <td>76.353823</td>\n",
       "      <td>2.364618</td>\n",
       "      <td>0.000000</td>\n",
       "      <td>43.239293</td>\n",
       "      <td>0</td>\n",
       "      <td>False</td>\n",
       "      <td>False</td>\n",
       "    </tr>\n",
       "    <tr>\n",
       "      <th>4782</th>\n",
       "      <td>4782</td>\n",
       "      <td>24.639926</td>\n",
       "      <td>-0.554875</td>\n",
       "      <td>49.575515</td>\n",
       "      <td>20.682562</td>\n",
       "      <td>3.148392</td>\n",
       "      <td>20.000000</td>\n",
       "      <td>10.000000</td>\n",
       "      <td>4.895397</td>\n",
       "      <td>54.470912</td>\n",
       "      <td>2</td>\n",
       "      <td>False</td>\n",
       "      <td>False</td>\n",
       "    </tr>\n",
       "  </tbody>\n",
       "</table>\n",
       "<p>4000 rows × 13 columns</p>\n",
       "</div>"
      ],
      "text/plain": [
       "      Time (s)  Speed (km/h)  Acceleration (m/s²)  Power Demand (kW)  \\\n",
       "3185      3185     69.958624            -0.663131          74.409240   \n",
       "3159      3159     54.697767            -0.380971          61.522507   \n",
       "3102      3102     74.742213            -0.240287          51.108364   \n",
       "120        120     61.865479            -0.690299          75.031718   \n",
       "2567      2567     59.767044            -0.612500          46.500299   \n",
       "...        ...           ...                  ...                ...   \n",
       "233        233     40.225995            -0.128473          38.959744   \n",
       "1430      1430     54.611100            -0.314335          47.313221   \n",
       "2628      2628     43.354340            -0.803128          52.197581   \n",
       "1057      1057     67.590935             0.512816          43.239293   \n",
       "4782      4782     24.639926            -0.554875          49.575515   \n",
       "\n",
       "      Battery Power (kW)  Fuel Consumption (L/100km)    SOC (%)  \\\n",
       "3185           30.334721                    1.811820  28.687120   \n",
       "3159           28.508247                    6.215502  29.293315   \n",
       "3102           24.151167                    7.844874  30.564761   \n",
       "120            33.748391                    4.492720  97.183022   \n",
       "2567           23.410178                    4.547730  42.554908   \n",
       "...                  ...                         ...        ...   \n",
       "233            12.132393                    4.357772  94.706826   \n",
       "1430           22.625100                    5.233878  68.065512   \n",
       "2628           31.072062                    3.267387  41.159761   \n",
       "1057           23.404823                    5.379339  76.353823   \n",
       "4782           20.682562                    3.148392  20.000000   \n",
       "\n",
       "      Battery Degradation (%)  Regenerative Braking Power (kW)  \\\n",
       "3185                 7.131288                         9.883046   \n",
       "3159                 7.070668                         5.290346   \n",
       "3102                 6.943524                         0.777132   \n",
       "120                  0.281698                         3.569738   \n",
       "2567                 5.744509                         3.709481   \n",
       "...                       ...                              ...   \n",
       "233                  0.529317                         4.422993   \n",
       "1430                 3.193449                         1.011635   \n",
       "2628                 5.884024                         9.294322   \n",
       "1057                 2.364618                         0.000000   \n",
       "4782                10.000000                         4.895397   \n",
       "\n",
       "      Total Energy Used (kWh)  Driving Cycle Type  Target Efficiency_1  \\\n",
       "3185                84.292285                   1                False   \n",
       "3159                66.812853                   0                False   \n",
       "3102                51.885496                   2                False   \n",
       "120                 78.601456                   0                 True   \n",
       "2567                50.209780                   2                False   \n",
       "...                       ...                 ...                  ...   \n",
       "233                 43.382736                   2                 True   \n",
       "1430                48.324857                   2                False   \n",
       "2628                61.491903                   0                False   \n",
       "1057                43.239293                   0                False   \n",
       "4782                54.470912                   2                False   \n",
       "\n",
       "      Target Efficiency_Medium Efficiency  \n",
       "3185                                False  \n",
       "3159                                False  \n",
       "3102                                False  \n",
       "120                                 False  \n",
       "2567                                 True  \n",
       "...                                   ...  \n",
       "233                                 False  \n",
       "1430                                False  \n",
       "2628                                False  \n",
       "1057                                False  \n",
       "4782                                False  \n",
       "\n",
       "[4000 rows x 13 columns]"
      ]
     },
     "execution_count": 60,
     "metadata": {},
     "output_type": "execute_result"
    }
   ],
   "source": [
    "df_x_train"
   ]
  },
  {
   "cell_type": "code",
   "execution_count": null,
   "id": "60f2ae76-b34b-4ca6-81a9-dbe10ce414ca",
   "metadata": {},
   "outputs": [],
   "source": []
  },
  {
   "cell_type": "code",
   "execution_count": 54,
   "id": "716f75d5-91ae-48d2-bd97-aa2266a82ff4",
   "metadata": {},
   "outputs": [
    {
     "name": "stdout",
     "output_type": "stream",
     "text": [
      "MSE: 0.2760189286629834\n",
      "R²: 0.9948626291636875\n"
     ]
    }
   ],
   "source": [
    "#  Evaluate\n",
    "y_pred = model.predict(df_x_test)\n",
    "print(\"MSE:\", mean_squared_error(df_y_test, y_pred))\n",
    "print(\"R²:\", r2_score(df_y_test, y_pred))\n"
   ]
  },
  {
   "cell_type": "code",
   "execution_count": 58,
   "id": "e44b16f8-3f3a-4fa8-9bf0-5919b1d622d3",
   "metadata": {},
   "outputs": [],
   "source": [
    "# The Random Forest Regressor achieved an R² score of 0.9948, indicating that the model captures nearly all variations in Engine Power (kW) from the input parameters such as speed, SOC, acceleration, etc.\n",
    "# The low MSE value of 0.276 shows that prediction errors are minimal, confirming that the model is well-trained and generalizes effectively on unseen test data."
   ]
  },
  {
   "cell_type": "code",
   "execution_count": 61,
   "id": "4e8d3311-c295-42d5-9e06-e878f275e01c",
   "metadata": {},
   "outputs": [
    {
     "data": {
      "image/png": "[encoded data removed]",
      "text/plain": [
       "<Figure size 800x400 with 1 Axes>"
      ]
     },
     "metadata": {},
     "output_type": "display_data"
    }
   ],
   "source": [
    "import matplotlib.pyplot as plt\n",
    "\n",
    "feature_importances = pd.Series(model.feature_importances_, index=df_x_train.columns)\n",
    "feature_importances.sort_values(ascending=False).head(10).plot(kind='bar', figsize=(8,4))\n",
    "plt.title(\"Top 10 Important Features Affecting Engine Power\")\n",
    "plt.xlabel(\"Feature\")\n",
    "plt.ylabel(\"Importance Score\")\n",
    "plt.show()\n"
   ]
  },
  {
   "cell_type": "code",
   "execution_count": 62,
   "id": "d5cb6efb-a8eb-4b63-b9b0-0709dcc63a6a",
   "metadata": {},
   "outputs": [
    {
     "data": {
      "text/plain": [
       "array([2.45623443e-04, 5.22961564e-04, 5.47505899e-04, 7.01790810e-01,\n",
       "       2.93292685e-01, 5.25366856e-04, 2.35153015e-04, 2.48590145e-04,\n",
       "       2.79255634e-04, 1.95830395e-03, 2.65199681e-04, 4.10410175e-05,\n",
       "       4.75030388e-05])"
      ]
     },
     "execution_count": 62,
     "metadata": {},
     "output_type": "execute_result"
    }
   ],
   "source": [
    "model.feature_importances_"
   ]
  },
  {
   "cell_type": "code",
   "execution_count": 63,
   "id": "711f248b-7425-4e76-8bcc-272daaca85c3",
   "metadata": {},
   "outputs": [],
   "source": [
    "feature_imp=pd.DataFrame()\n",
    "feature_imp[\"feature\"]=df_x_train.columns\n",
    "feature_imp[\"IMP\"]=model.feature_importances_"
   ]
  },
  {
   "cell_type": "code",
   "execution_count": 64,
   "id": "4a72561e-58de-4e2c-84df-26d35d3523ec",
   "metadata": {},
   "outputs": [
    {
     "data": {
      "text/html": [
       "<div>\n",
       "<style scoped>\n",
       "    .dataframe tbody tr th:only-of-type {\n",
       "        vertical-align: middle;\n",
       "    }\n",
       "\n",
       "    .dataframe tbody tr th {\n",
       "        vertical-align: top;\n",
       "    }\n",
       "\n",
       "    .dataframe thead th {\n",
       "        text-align: right;\n",
       "    }\n",
       "</style>\n",
       "<table border=\"1\" class=\"dataframe\">\n",
       "  <thead>\n",
       "    <tr style=\"text-align: right;\">\n",
       "      <th></th>\n",
       "      <th>feature</th>\n",
       "      <th>IMP</th>\n",
       "    </tr>\n",
       "  </thead>\n",
       "  <tbody>\n",
       "    <tr>\n",
       "      <th>0</th>\n",
       "      <td>Time (s)</td>\n",
       "      <td>0.000246</td>\n",
       "    </tr>\n",
       "    <tr>\n",
       "      <th>1</th>\n",
       "      <td>Speed (km/h)</td>\n",
       "      <td>0.000523</td>\n",
       "    </tr>\n",
       "    <tr>\n",
       "      <th>2</th>\n",
       "      <td>Acceleration (m/s²)</td>\n",
       "      <td>0.000548</td>\n",
       "    </tr>\n",
       "    <tr>\n",
       "      <th>3</th>\n",
       "      <td>Power Demand (kW)</td>\n",
       "      <td>0.701791</td>\n",
       "    </tr>\n",
       "    <tr>\n",
       "      <th>4</th>\n",
       "      <td>Battery Power (kW)</td>\n",
       "      <td>0.293293</td>\n",
       "    </tr>\n",
       "    <tr>\n",
       "      <th>5</th>\n",
       "      <td>Fuel Consumption (L/100km)</td>\n",
       "      <td>0.000525</td>\n",
       "    </tr>\n",
       "    <tr>\n",
       "      <th>6</th>\n",
       "      <td>SOC (%)</td>\n",
       "      <td>0.000235</td>\n",
       "    </tr>\n",
       "    <tr>\n",
       "      <th>7</th>\n",
       "      <td>Battery Degradation (%)</td>\n",
       "      <td>0.000249</td>\n",
       "    </tr>\n",
       "    <tr>\n",
       "      <th>8</th>\n",
       "      <td>Regenerative Braking Power (kW)</td>\n",
       "      <td>0.000279</td>\n",
       "    </tr>\n",
       "    <tr>\n",
       "      <th>9</th>\n",
       "      <td>Total Energy Used (kWh)</td>\n",
       "      <td>0.001958</td>\n",
       "    </tr>\n",
       "    <tr>\n",
       "      <th>10</th>\n",
       "      <td>Driving Cycle Type</td>\n",
       "      <td>0.000265</td>\n",
       "    </tr>\n",
       "    <tr>\n",
       "      <th>11</th>\n",
       "      <td>Target Efficiency_1</td>\n",
       "      <td>0.000041</td>\n",
       "    </tr>\n",
       "    <tr>\n",
       "      <th>12</th>\n",
       "      <td>Target Efficiency_Medium Efficiency</td>\n",
       "      <td>0.000048</td>\n",
       "    </tr>\n",
       "  </tbody>\n",
       "</table>\n",
       "</div>"
      ],
      "text/plain": [
       "                                feature       IMP\n",
       "0                              Time (s)  0.000246\n",
       "1                          Speed (km/h)  0.000523\n",
       "2                   Acceleration (m/s²)  0.000548\n",
       "3                     Power Demand (kW)  0.701791\n",
       "4                    Battery Power (kW)  0.293293\n",
       "5            Fuel Consumption (L/100km)  0.000525\n",
       "6                               SOC (%)  0.000235\n",
       "7               Battery Degradation (%)  0.000249\n",
       "8       Regenerative Braking Power (kW)  0.000279\n",
       "9               Total Energy Used (kWh)  0.001958\n",
       "10                   Driving Cycle Type  0.000265\n",
       "11                  Target Efficiency_1  0.000041\n",
       "12  Target Efficiency_Medium Efficiency  0.000048"
      ]
     },
     "execution_count": 64,
     "metadata": {},
     "output_type": "execute_result"
    }
   ],
   "source": [
    "feature_imp"
   ]
  },
  {
   "cell_type": "code",
   "execution_count": 65,
   "id": "a1fb4733-1499-4ab9-a464-e32d5294d767",
   "metadata": {},
   "outputs": [],
   "source": [
    "# # only two feature aare more important \n",
    "# Power Demand (kW)\t0.701791\n",
    "# 4\tBattery Power (kW)\t0.293293"
   ]
  },
  {
   "cell_type": "code",
   "execution_count": null,
   "id": "06cece6c-ce93-47c0-ba7f-dc2eeb7c0e79",
   "metadata": {},
   "outputs": [],
   "source": []
  },
  {
   "cell_type": "code",
   "execution_count": null,
   "id": "c2294b39-afa5-416d-bce3-a8e5ee378de2",
   "metadata": {},
   "outputs": [],
   "source": []
  },
  {
   "cell_type": "code",
   "execution_count": 68,
   "id": "ed25546e-475a-4313-8473-f17b1b29bcfc",
   "metadata": {},
   "outputs": [
    {
     "name": "stdout",
     "output_type": "stream",
     "text": [
      "🔹 AdaBoost Results\n",
      "MSE: 6.627910405077502\n",
      "R²: 0.8766387733418373\n"
     ]
    }
   ],
   "source": [
    "ada_model = AdaBoostRegressor(n_estimators=100, learning_rate=0.1, random_state=42)\n",
    "ada_model.fit(df_x_train, df_y_train)\n",
    "\n",
    "y_pred_ada = ada_model.predict(df_x_test)\n",
    "\n",
    "print(\" AdaBoost Results\")\n",
    "print(\"MSE:\", mean_squared_error(df_y_test, y_pred_ada))\n",
    "print(\"R²:\", r2_score(df_y_test, y_pred_ada))"
   ]
  },
  {
   "cell_type": "code",
   "execution_count": null,
   "id": "c8d04c11-afa3-4499-a0ac-23c58dca1bad",
   "metadata": {},
   "outputs": [],
   "source": []
  },
  {
   "cell_type": "code",
   "execution_count": null,
   "id": "b0817bcd-cfb4-42c7-ad17-cee5a749a6f8",
   "metadata": {},
   "outputs": [],
   "source": []
  },
  {
   "cell_type": "code",
   "execution_count": 71,
   "id": "18469bc3-2bec-461d-92de-22a20ff80be8",
   "metadata": {},
   "outputs": [
    {
     "name": "stdout",
     "output_type": "stream",
     "text": [
      "🔹 Gradient Boosting Results\n",
      "MSE: 0.22098686232661544\n",
      "R²: 0.9958869072232682\n"
     ]
    }
   ],
   "source": [
    "\n",
    "gbr_model = GradientBoostingRegressor(n_estimators=200, learning_rate=0.05,\n",
    "                                      max_depth=4, random_state=42)\n",
    "gbr_model.fit(df_x_train, df_y_train)\n",
    "\n",
    "y_pred_gbr = gbr_model.predict(df_x_test)\n",
    "\n",
    "print(\" Gradient Boosting Results\")\n",
    "print(\"MSE:\", mean_squared_error(df_y_test, y_pred_gbr))\n",
    "print(\"R²:\", r2_score(df_y_test, y_pred_gbr))\n"
   ]
  },
  {
   "cell_type": "code",
   "execution_count": null,
   "id": "861eea4f-200e-491c-8f94-6b51b0488a80",
   "metadata": {},
   "outputs": [],
   "source": []
  },
  {
   "cell_type": "code",
   "execution_count": 73,
   "id": "c9519962-3bb6-4ce0-8c0c-a8c3936d55b7",
   "metadata": {},
   "outputs": [
    {
     "name": "stdout",
     "output_type": "stream",
     "text": [
      "🔹 XGBoost Results\n",
      "MSE: 0.2699942177427203\n",
      "R²: 0.9949747634087152\n"
     ]
    }
   ],
   "source": [
    "\n",
    "\n",
    "xgb_model = XGBRegressor(n_estimators=300, learning_rate=0.05,\n",
    "                         max_depth=5, subsample=0.8, colsample_bytree=0.8,\n",
    "                         random_state=42)\n",
    "xgb_model.fit(df_x_train, df_y_train)\n",
    "\n",
    "y_pred_xgb = xgb_model.predict(df_x_test)\n",
    "\n",
    "print(\" XGBoost Results\")\n",
    "print(\"MSE:\", mean_squared_error(df_y_test, y_pred_xgb))\n",
    "print(\"R²:\", r2_score(df_y_test, y_pred_xgb))\n"
   ]
  },
  {
   "cell_type": "code",
   "execution_count": 74,
   "id": "4e67cd10-88d9-40b9-83c1-58face213c41",
   "metadata": {},
   "outputs": [
    {
     "name": "stdout",
     "output_type": "stream",
     "text": [
      "                        MSE        R²\n",
      "Random Forest      0.276019  0.994863\n",
      "AdaBoost           6.627910  0.876639\n",
      "Gradient Boosting  0.220987  0.995887\n",
      "XGBoost            0.269994  0.994975\n"
     ]
    }
   ],
   "source": [
    "results = {\n",
    "    \"Random Forest\": [mean_squared_error(df_y_test, model.predict(df_x_test)), r2_score(df_y_test, model.predict(df_x_test))],\n",
    "    \"AdaBoost\": [mean_squared_error(df_y_test, y_pred_ada), r2_score(df_y_test, y_pred_ada)],\n",
    "    \"Gradient Boosting\": [mean_squared_error(df_y_test, y_pred_gbr), r2_score(df_y_test, y_pred_gbr)],\n",
    "    \"XGBoost\": [mean_squared_error(df_y_test, y_pred_xgb), r2_score(df_y_test, y_pred_xgb)],\n",
    "}\n",
    "\n",
    "import pandas as pd\n",
    "df_results = pd.DataFrame(results, index=[\"MSE\", \"R²\"]).T\n",
    "print(df_results)\n"
   ]
  },
  {
   "cell_type": "code",
   "execution_count": null,
   "id": "f9be27fb-c26a-4b88-8699-5f815adde3b1",
   "metadata": {},
   "outputs": [],
   "source": []
  },
  {
   "cell_type": "code",
   "execution_count": null,
   "id": "c6658f73-e2ae-45fe-a984-692f150b428e",
   "metadata": {},
   "outputs": [],
   "source": []
  },
  {
   "cell_type": "markdown",
   "id": "c37cc71f-3a84-4d7b-865c-deb05fdb7170",
   "metadata": {},
   "source": [
    "# using ML  pipeline "
   ]
  },
  {
   "cell_type": "code",
   "execution_count": 85,
   "id": "3bee4b0b-ea89-4971-ae2c-9d3df2b52a6d",
   "metadata": {},
   "outputs": [],
   "source": [
    "df=pd.read_csv(\"nev_energy_management_dataset.csv\")"
   ]
  },
  {
   "cell_type": "code",
   "execution_count": null,
   "id": "ba8d8d33-b28a-45da-8df1-d5b90388cbab",
   "metadata": {},
   "outputs": [],
   "source": [
    "\n",
    "X = df.drop(columns=[\"Engine Power (kW)\"])\n",
    "y = df[\"Engine Power (kW)\"]\n",
    "\n"
   ]
  },
  {
   "cell_type": "code",
   "execution_count": null,
   "id": "c350d1fc-baa0-419c-b388-1cd0fae529b0",
   "metadata": {},
   "outputs": [],
   "source": [
    "\n",
    "X_train, X_test, y_train, y_test = train_test_split(\n",
    "    X, y, test_size=0.2, random_state=555\n",
    ")\n",
    "\n"
   ]
  },
  {
   "cell_type": "code",
   "execution_count": null,
   "id": "6ef38e81-16f1-49d9-9a0d-37e88f3c8d6b",
   "metadata": {},
   "outputs": [],
   "source": [
    "\n",
    "# Identify categorical columns\n",
    "cat_cols = X_train.select_dtypes(include='object').columns.tolist()\n"
   ]
  },
  {
   "cell_type": "code",
   "execution_count": null,
   "id": "eee0ac53-c738-4805-a395-126309c3f5a2",
   "metadata": {},
   "outputs": [],
   "source": [
    "\n",
    "\n",
    "#  Preprocessor: Label Encoding\n",
    "preprocessor = ColumnTransformer(\n",
    "    transformers=[\n",
    "        ('cat', OrdinalEncoder(), cat_cols)\n",
    "    ],\n",
    "    remainder='passthrough'\n",
    ")"
   ]
  },
  {
   "cell_type": "code",
   "execution_count": null,
   "id": "b8651f8d-c155-4907-8c20-15978d65cb11",
   "metadata": {},
   "outputs": [],
   "source": [
    "# Pipeline\n",
    "pipeline = Pipeline([\n",
    "    ('preprocessor', preprocessor),\n",
    "    ('regressor', GradientBoostingRegressor(\n",
    "        n_estimators=200,\n",
    "        learning_rate=0.05,\n",
    "        max_depth=4,\n",
    "        random_state=42\n",
    "    ))\n",
    "])\n"
   ]
  },
  {
   "cell_type": "code",
   "execution_count": null,
   "id": "e228d347-034b-4dba-8981-244dec582e2c",
   "metadata": {},
   "outputs": [],
   "source": [
    "#  Fit pipeline\n",
    "pipeline.fit(X_train, y_train)\n"
   ]
  },
  {
   "cell_type": "code",
   "execution_count": null,
   "id": "fc8a2afe-b205-49c8-9632-fc02ee52cbdf",
   "metadata": {},
   "outputs": [],
   "source": []
  },
  {
   "cell_type": "code",
   "execution_count": null,
   "id": "86343b5b-26ab-4c20-bb1c-2c1bb4415a60",
   "metadata": {},
   "outputs": [],
   "source": []
  },
  {
   "cell_type": "code",
   "execution_count": null,
   "id": "ec74d536-211b-4856-b857-6b9120229520",
   "metadata": {},
   "outputs": [],
   "source": []
  },
  {
   "cell_type": "code",
   "execution_count": 92,
   "id": "b0e72117-4fc1-4191-a867-49feddda8fec",
   "metadata": {},
   "outputs": [
    {
     "name": "stdout",
     "output_type": "stream",
     "text": [
      "MSE: 0.22202845472251526\n",
      "R²: 0.9958675207035684\n",
      "                                       Feature  Importance\n",
      "5                 remainder__Power Demand (kW)    0.709972\n",
      "6                remainder__Battery Power (kW)    0.289080\n",
      "11          remainder__Total Energy Used (kWh)    0.000769\n",
      "10  remainder__Regenerative Braking Power (kW)    0.000058\n",
      "3                      remainder__Speed (km/h)    0.000048\n",
      "8                           remainder__SOC (%)    0.000028\n",
      "9           remainder__Battery Degradation (%)    0.000017\n",
      "4               remainder__Acceleration (m/s²)    0.000012\n",
      "7        remainder__Fuel Consumption (L/100km)    0.000005\n",
      "2                          remainder__Time (s)    0.000005\n",
      "1                       cat__Target Efficiency    0.000004\n",
      "0                      cat__Driving Cycle Type    0.000002\n",
      "Pipeline saved as 'engine_power_pipeline.pkl'\n"
     ]
    }
   ],
   "source": [
    "\n",
    "\n",
    "\n",
    "# 7️⃣ Predictions & Evaluation\n",
    "y_pred = pipeline.predict(X_test)\n",
    "print(\"MSE:\", mean_squared_error(y_test, y_pred))\n",
    "print(\"R²:\", r2_score(y_test, y_pred))\n",
    "\n",
    "# 8️⃣ Feature Importance\n",
    "feature_names = pipeline.named_steps['preprocessor'].get_feature_names_out(X.columns)\n",
    "importances = pipeline.named_steps['regressor'].feature_importances_\n",
    "\n",
    "feat_df = pd.DataFrame({\n",
    "    \"Feature\": feature_names,\n",
    "    \"Importance\": importances\n",
    "}).sort_values(by=\"Importance\", ascending=False)\n",
    "\n",
    "print(feat_df)\n",
    "\n",
    "# 9️⃣ Save pipeline\n",
    "joblib.dump(pipeline, \"engine_power_pipeline1.pkl\")\n",
    "print(\"Pipeline saved as 'engine_power_pipeline.pkl'\")\n"
   ]
  },
  {
   "cell_type": "code",
   "execution_count": null,
   "id": "32e39f7b-850d-4c4a-878e-2344506095eb",
   "metadata": {},
   "outputs": [],
   "source": []
  }
 ],
 "metadata": {
  "kernelspec": {
   "display_name": "Python (tensorflow-310)",
   "language": "python",
   "name": "tensorflow-310"
  },
  "language_info": {
   "codemirror_mode": {
    "name": "ipython",
    "version": 3
   },
   "file_extension": ".py",
   "mimetype": "text/x-python",
   "name": "python",
   "nbconvert_exporter": "python",
   "pygments_lexer": "ipython3",
   "version": "3.10.18"
  },
  "widgets": {
   "application/vnd.jupyter.widget-state+json": {
    "state": {},
    "version_major": 2,
    "version_minor": 0
   }
  }
 },
 "nbformat": 4,
 "nbformat_minor": 5
}
